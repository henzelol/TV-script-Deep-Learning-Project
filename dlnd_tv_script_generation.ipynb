{
 "cells": [
  {
   "cell_type": "markdown",
   "metadata": {},
   "source": [
    "# TV Script Generation\n",
    "In this project, you'll generate your own [Simpsons](https://en.wikipedia.org/wiki/The_Simpsons) TV scripts using RNNs.  You'll be using part of the [Simpsons dataset](https://www.kaggle.com/wcukierski/the-simpsons-by-the-data) of scripts from 27 seasons.  The Neural Network you'll build will generate a new TV script for a scene at [Moe's Tavern](https://simpsonswiki.com/wiki/Moe's_Tavern).\n",
    "## Get the Data\n",
    "The data is already provided for you.  You'll be using a subset of the original dataset.  It consists of only the scenes in Moe's Tavern.  This doesn't include other versions of the tavern, like \"Moe's Cavern\", \"Flaming Moe's\", \"Uncle Moe's Family Feed-Bag\", etc.."
   ]
  },
  {
   "cell_type": "code",
   "execution_count": 1,
   "metadata": {},
   "outputs": [],
   "source": [
    "\"\"\"\n",
    "DON'T MODIFY ANYTHING IN THIS CELL\n",
    "\"\"\"\n",
    "import helper\n",
    "\n",
    "data_dir = './data/simpsons/moes_tavern_lines.txt'\n",
    "text = helper.load_data(data_dir)\n",
    "# Ignore notice, since we don't use it for analysing the data\n",
    "text = text[81:]"
   ]
  },
  {
   "cell_type": "markdown",
   "metadata": {},
   "source": [
    "## Explore the Data\n",
    "Play around with `view_sentence_range` to view different parts of the data."
   ]
  },
  {
   "cell_type": "code",
   "execution_count": 2,
   "metadata": {},
   "outputs": [
    {
     "name": "stdout",
     "output_type": "stream",
     "text": [
      "Dataset Stats\n",
      "Roughly the number of unique words: 11492\n",
      "Number of scenes: 262\n",
      "Average number of sentences in each scene: 15.251908396946565\n",
      "Number of lines: 4258\n",
      "Average number of words in each line: 11.50164396430249\n",
      "\n",
      "The sentences 0 to 10:\n",
      "\n",
      "Moe_Szyslak: (INTO PHONE) Moe's Tavern. Where the elite meet to drink.\n",
      "Bart_Simpson: Eh, yeah, hello, is Mike there? Last name, Rotch.\n",
      "Moe_Szyslak: (INTO PHONE) Hold on, I'll check. (TO BARFLIES) Mike Rotch. Mike Rotch. Hey, has anybody seen Mike Rotch, lately?\n",
      "Moe_Szyslak: (INTO PHONE) Listen you little puke. One of these days I'm gonna catch you, and I'm gonna carve my name on your back with an ice pick.\n",
      "Moe_Szyslak: What's the matter Homer? You're not your normal effervescent self.\n",
      "Homer_Simpson: I got my problems, Moe. Give me another one.\n",
      "Moe_Szyslak: Homer, hey, you should not drink to forget your problems.\n",
      "Barney_Gumble: Yeah, you should only drink to enhance your social skills.\n",
      "\n"
     ]
    }
   ],
   "source": [
    "view_sentence_range = (0, 10)\n",
    "\n",
    "\"\"\"\n",
    "DON'T MODIFY ANYTHING IN THIS CELL\n",
    "\"\"\"\n",
    "import numpy as np\n",
    "\n",
    "print('Dataset Stats')\n",
    "print('Roughly the number of unique words: {}'.format(len({word: None for word in text.split()})))\n",
    "scenes = text.split('\\n\\n')\n",
    "print('Number of scenes: {}'.format(len(scenes)))\n",
    "sentence_count_scene = [scene.count('\\n') for scene in scenes]\n",
    "print('Average number of sentences in each scene: {}'.format(np.average(sentence_count_scene)))\n",
    "\n",
    "sentences = [sentence for scene in scenes for sentence in scene.split('\\n')]\n",
    "print('Number of lines: {}'.format(len(sentences)))\n",
    "word_count_sentence = [len(sentence.split()) for sentence in sentences]\n",
    "print('Average number of words in each line: {}'.format(np.average(word_count_sentence)))\n",
    "\n",
    "print()\n",
    "print('The sentences {} to {}:'.format(*view_sentence_range))\n",
    "print('\\n'.join(text.split('\\n')[view_sentence_range[0]:view_sentence_range[1]]))"
   ]
  },
  {
   "cell_type": "markdown",
   "metadata": {},
   "source": [
    "## Implement Preprocessing Functions\n",
    "The first thing to do to any dataset is preprocessing.  Implement the following preprocessing functions below:\n",
    "- Lookup Table\n",
    "- Tokenize Punctuation\n",
    "\n",
    "### Lookup Table\n",
    "To create a word embedding, you first need to transform the words to ids.  In this function, create two dictionaries:\n",
    "- Dictionary to go from the words to an id, we'll call `vocab_to_int`\n",
    "- Dictionary to go from the id to word, we'll call `int_to_vocab`\n",
    "\n",
    "Return these dictionaries in the following tuple `(vocab_to_int, int_to_vocab)`"
   ]
  },
  {
   "cell_type": "code",
   "execution_count": 3,
   "metadata": {},
   "outputs": [
    {
     "name": "stdout",
     "output_type": "stream",
     "text": [
      "Tests Passed\n"
     ]
    }
   ],
   "source": [
    "import numpy as np\n",
    "import problem_unittests as tests\n",
    "from collections import Counter\n",
    "def create_lookup_tables(text):\n",
    "    vocab_to_int = {word: index for index,word in enumerate(set(text))}\n",
    "    int_to_vocab = {index:word for index,word in enumerate(set(text))}\n",
    "\n",
    "    return (vocab_to_int, int_to_vocab)\n",
    "\n",
    "\n",
    "\"\"\"\n",
    "DON'T MODIFY ANYTHING IN THIS CELL THAT IS BELOW THIS LINE\n",
    "\"\"\"\n",
    "tests.test_create_lookup_tables(create_lookup_tables)"
   ]
  },
  {
   "cell_type": "markdown",
   "metadata": {},
   "source": [
    "### Tokenize Punctuation\n",
    "We'll be splitting the script into a word array using spaces as delimiters.  However, punctuations like periods and exclamation marks make it hard for the neural network to distinguish between the word \"bye\" and \"bye!\".\n",
    "\n",
    "Implement the function `token_lookup` to return a dict that will be used to tokenize symbols like \"!\" into \"||Exclamation_Mark||\".  Create a dictionary for the following symbols where the symbol is the key and value is the token:\n",
    "- Period ( . )\n",
    "- Comma ( , )\n",
    "- Quotation Mark ( \" )\n",
    "- Semicolon ( ; )\n",
    "- Exclamation mark ( ! )\n",
    "- Question mark ( ? )\n",
    "- Left Parentheses ( ( )\n",
    "- Right Parentheses ( ) )\n",
    "- Dash ( -- )\n",
    "- Return ( \\n )\n",
    "\n",
    "This dictionary will be used to token the symbols and add the delimiter (space) around it.  This separates the symbols as it's own word, making it easier for the neural network to predict on the next word. Make sure you don't use a token that could be confused as a word. Instead of using the token \"dash\", try using something like \"||dash||\"."
   ]
  },
  {
   "cell_type": "code",
   "execution_count": 4,
   "metadata": {},
   "outputs": [
    {
     "name": "stdout",
     "output_type": "stream",
     "text": [
      "Tests Passed\n"
     ]
    }
   ],
   "source": [
    "from collections import Counter\n",
    "\n",
    "def token_lookup():\n",
    "    \n",
    "    punctuation = ['||Period||','||Comma||','||QuotationMark||','||Semicolon||','||ExclamationMark||','||QuestionMark||','||LeftParentheses||','||RightParenthese||','||Dash||','||Return||']\n",
    "    keys = ['.',',','\"',';','!','?','(',')','--','\\n']\n",
    "    tokendict = dict(zip(keys,punctuation))\n",
    "    return tokendict\n",
    "\n",
    "\"\"\"\n",
    "DON'T MODIFY ANYTHING IN THIS CELL THAT IS BELOW THIS LINE\n",
    "\"\"\"\n",
    "tests.test_tokenize(token_lookup)"
   ]
  },
  {
   "cell_type": "markdown",
   "metadata": {},
   "source": [
    "## Preprocess all the data and save it\n",
    "Running the code cell below will preprocess all the data and save it to file."
   ]
  },
  {
   "cell_type": "code",
   "execution_count": 5,
   "metadata": {},
   "outputs": [],
   "source": [
    "\"\"\"\n",
    "DON'T MODIFY ANYTHING IN THIS CELL\n",
    "\"\"\"\n",
    "# Preprocess Training, Validation, and Testing Data\n",
    "helper.preprocess_and_save_data(data_dir, token_lookup, create_lookup_tables)"
   ]
  },
  {
   "cell_type": "markdown",
   "metadata": {},
   "source": [
    "# Check Point\n",
    "This is your first checkpoint. If you ever decide to come back to this notebook or have to restart the notebook, you can start from here. The preprocessed data has been saved to disk."
   ]
  },
  {
   "cell_type": "code",
   "execution_count": 6,
   "metadata": {},
   "outputs": [],
   "source": [
    "\"\"\"\n",
    "DON'T MODIFY ANYTHING IN THIS CELL\n",
    "\"\"\"\n",
    "import helper\n",
    "import numpy as np\n",
    "import problem_unittests as tests\n",
    "\n",
    "int_text, vocab_to_int, int_to_vocab, token_dict = helper.load_preprocess()"
   ]
  },
  {
   "cell_type": "markdown",
   "metadata": {},
   "source": [
    "## Build the Neural Network\n",
    "You'll build the components necessary to build a RNN by implementing the following functions below:\n",
    "- get_inputs\n",
    "- get_init_cell\n",
    "- get_embed\n",
    "- build_rnn\n",
    "- build_nn\n",
    "- get_batches\n",
    "\n",
    "### Check the Version of TensorFlow and Access to GPU"
   ]
  },
  {
   "cell_type": "code",
   "execution_count": 7,
   "metadata": {},
   "outputs": [
    {
     "name": "stdout",
     "output_type": "stream",
     "text": [
      "TensorFlow Version: 1.13.1\n",
      "Default GPU Device: /device:GPU:0\n"
     ]
    }
   ],
   "source": [
    "\"\"\"\n",
    "DON'T MODIFY ANYTHING IN THIS CELL\n",
    "\"\"\"\n",
    "from distutils.version import LooseVersion\n",
    "import warnings\n",
    "import tensorflow as tf\n",
    "\n",
    "# Check TensorFlow Version\n",
    "assert LooseVersion(tf.__version__) >= LooseVersion('1.3'), 'Please use TensorFlow version 1.3 or newer'\n",
    "print('TensorFlow Version: {}'.format(tf.__version__))\n",
    "\n",
    "# Check for a GPU\n",
    "if not tf.test.gpu_device_name():\n",
    "    warnings.warn('No GPU found. Please use a GPU to train your neural network.')\n",
    "else:\n",
    "    print('Default GPU Device: {}'.format(tf.test.gpu_device_name()))"
   ]
  },
  {
   "cell_type": "markdown",
   "metadata": {},
   "source": [
    "### Input\n",
    "Implement the `get_inputs()` function to create TF Placeholders for the Neural Network.  It should create the following placeholders:\n",
    "- Input text placeholder named \"input\" using the [TF Placeholder](https://www.tensorflow.org/api_docs/python/tf/placeholder) `name` parameter.\n",
    "- Targets placeholder\n",
    "- Learning Rate placeholder\n",
    "\n",
    "Return the placeholders in the following tuple `(Input, Targets, LearningRate)`"
   ]
  },
  {
   "cell_type": "code",
   "execution_count": 8,
   "metadata": {},
   "outputs": [
    {
     "name": "stdout",
     "output_type": "stream",
     "text": [
      "Tests Passed\n"
     ]
    }
   ],
   "source": [
    "def get_inputs():\n",
    "    \n",
    "    inputs = tf.placeholder(tf.int32,[None, None], name = 'input')\n",
    "    targets = tf.placeholder(tf.int32,[None, None], name = 'targets')\n",
    "    learning_rate = tf.placeholder(tf.float32, name = 'learning_rate')\n",
    "\n",
    "    return (inputs, targets, learning_rate)\n",
    "\n",
    "\n",
    "\"\"\"\n",
    "DON'T MODIFY ANYTHING IN THIS CELL THAT IS BELOW THIS LINE\n",
    "\"\"\"\n",
    "tests.test_get_inputs(get_inputs)"
   ]
  },
  {
   "cell_type": "markdown",
   "metadata": {},
   "source": [
    "### Build RNN Cell and Initialize\n",
    "Stack one or more [`BasicLSTMCells`](https://www.tensorflow.org/api_docs/python/tf/contrib/rnn/BasicLSTMCell) in a [`MultiRNNCell`](https://www.tensorflow.org/api_docs/python/tf/contrib/rnn/MultiRNNCell).\n",
    "- The Rnn size should be set using `rnn_size`\n",
    "- Initalize Cell State using the MultiRNNCell's [`zero_state()`](https://www.tensorflow.org/api_docs/python/tf/contrib/rnn/MultiRNNCell#zero_state) function\n",
    "    - Apply the name \"initial_state\" to the initial state using [`tf.identity()`](https://www.tensorflow.org/api_docs/python/tf/identity)\n",
    "\n",
    "Return the cell and initial state in the following tuple `(Cell, InitialState)`"
   ]
  },
  {
   "cell_type": "code",
   "execution_count": 9,
   "metadata": {
    "scrolled": true
   },
   "outputs": [
    {
     "name": "stdout",
     "output_type": "stream",
     "text": [
      "WARNING:tensorflow:From <ipython-input-9-252531ddd1d4>:6: BasicLSTMCell.__init__ (from tensorflow.python.ops.rnn_cell_impl) is deprecated and will be removed in a future version.\n",
      "Instructions for updating:\n",
      "This class is equivalent as tf.keras.layers.LSTMCell, and will be replaced by that in Tensorflow 2.0.\n",
      "WARNING:tensorflow:From <ipython-input-9-252531ddd1d4>:9: MultiRNNCell.__init__ (from tensorflow.python.ops.rnn_cell_impl) is deprecated and will be removed in a future version.\n",
      "Instructions for updating:\n",
      "This class is equivalent as tf.keras.layers.StackedRNNCells, and will be replaced by that in Tensorflow 2.0.\n",
      "WARNING:tensorflow:At least two cells provided to MultiRNNCell are the same object and will share weights.\n",
      "Tests Passed\n"
     ]
    }
   ],
   "source": [
    "def get_init_cell(batch_size, rnn_size):\n",
    "    \n",
    "    drop = 0.5\n",
    "    lstm_layers = 4\n",
    "    #Quando usar o dropout só precisa usar um número maior de neurônios nessa camada do que sem dropout.\n",
    "    lstm = tf.contrib.rnn.BasicLSTMCell(rnn_size)\n",
    "    \n",
    "    dropout = tf.contrib.rnn.DropoutWrapper(lstm, output_keep_prob=drop)\n",
    "    cell = tf.contrib.rnn.MultiRNNCell([dropout] * lstm_layers)\n",
    "    initial_state = cell.zero_state(batch_size, tf.float32)\n",
    "    initial_state = tf.identity(initial_state, name = 'initial_state')\n",
    "\n",
    "    return (cell, initial_state)\n",
    "\n",
    "\n",
    "\"\"\"\n",
    "DON'T MODIFY ANYTHING IN THIS CELL THAT IS BELOW THIS LINE\n",
    "\"\"\"\n",
    "tests.test_get_init_cell(get_init_cell)"
   ]
  },
  {
   "cell_type": "markdown",
   "metadata": {},
   "source": [
    "### Word Embedding\n",
    "Apply embedding to `input_data` using TensorFlow.  Return the embedded sequence."
   ]
  },
  {
   "cell_type": "code",
   "execution_count": 10,
   "metadata": {},
   "outputs": [
    {
     "name": "stdout",
     "output_type": "stream",
     "text": [
      "WARNING:tensorflow:From C:\\Users\\HENZELALMEIDADOSSANT\\Anaconda3\\envs\\tvscript\\lib\\site-packages\\tensorflow\\python\\framework\\op_def_library.py:263: colocate_with (from tensorflow.python.framework.ops) is deprecated and will be removed in a future version.\n",
      "Instructions for updating:\n",
      "Colocations handled automatically by placer.\n",
      "Tests Passed\n"
     ]
    }
   ],
   "source": [
    "def get_embed(input_data, vocab_size, embed_dim):\n",
    "    \n",
    "    embedding = tf.Variable(tf.random_uniform((vocab_size,embed_dim),-1,1))\n",
    "    embed = tf.nn.embedding_lookup(embedding,input_data)                       \n",
    "\n",
    "    return embed\n",
    "\n",
    "\n",
    "\"\"\"\n",
    "DON'T MODIFY ANYTHING IN THIS CELL THAT IS BELOW THIS LINE\n",
    "\"\"\"\n",
    "tests.test_get_embed(get_embed)"
   ]
  },
  {
   "cell_type": "markdown",
   "metadata": {},
   "source": [
    "### Build RNN\n",
    "You created a RNN Cell in the `get_init_cell()` function.  Time to use the cell to create a RNN.\n",
    "- Build the RNN using the [`tf.nn.dynamic_rnn()`](https://www.tensorflow.org/api_docs/python/tf/nn/dynamic_rnn)\n",
    " - Apply the name \"final_state\" to the final state using [`tf.identity()`](https://www.tensorflow.org/api_docs/python/tf/identity)\n",
    "\n",
    "Return the outputs and final_state state in the following tuple `(Outputs, FinalState)` "
   ]
  },
  {
   "cell_type": "code",
   "execution_count": 11,
   "metadata": {},
   "outputs": [
    {
     "name": "stdout",
     "output_type": "stream",
     "text": [
      "WARNING:tensorflow:From <ipython-input-11-575f7c3c1041>:3: dynamic_rnn (from tensorflow.python.ops.rnn) is deprecated and will be removed in a future version.\n",
      "Instructions for updating:\n",
      "Please use `keras.layers.RNN(cell)`, which is equivalent to this API\n",
      "Tests Passed\n"
     ]
    }
   ],
   "source": [
    "def build_rnn(cell, inputs):\n",
    "    \n",
    "    outputs, final_state = tf.nn.dynamic_rnn(cell, inputs, dtype=tf.float32)\n",
    "    final_state = tf.identity(final_state, 'final_state')\n",
    "\n",
    "    return (outputs, final_state)\n",
    "\n",
    "\n",
    "\"\"\"\n",
    "DON'T MODIFY ANYTHING IN THIS CELL THAT IS BELOW THIS LINE\n",
    "\"\"\"\n",
    "tests.test_build_rnn(build_rnn)"
   ]
  },
  {
   "cell_type": "markdown",
   "metadata": {},
   "source": [
    "### Build the Neural Network\n",
    "Apply the functions you implemented above to:\n",
    "- Apply embedding to `input_data` using your `get_embed(input_data, vocab_size, embed_dim)` function.\n",
    "- Build RNN using `cell` and your `build_rnn(cell, inputs)` function.\n",
    "- Apply a fully connected layer with a linear activation and `vocab_size` as the number of outputs.\n",
    "\n",
    "Return the logits and final state in the following tuple (Logits, FinalState) "
   ]
  },
  {
   "cell_type": "code",
   "execution_count": 12,
   "metadata": {},
   "outputs": [
    {
     "name": "stdout",
     "output_type": "stream",
     "text": [
      "Tests Passed\n"
     ]
    }
   ],
   "source": [
    "def build_nn(cell, rnn_size, input_data, vocab_size, embed_dim):\n",
    "    \n",
    "    embed = get_embed(input_data,vocab_size,rnn_size)\n",
    "    outputs, final_state = build_rnn(cell,embed)\n",
    "    logits = tf.contrib.layers.fully_connected(outputs,vocab_size,activation_fn=None,weights_initializer = tf.truncated_normal_initializer(stddev=0.1),biases_initializer=tf.zeros_initializer())\n",
    "    return (logits, final_state) # utilizando activation_Fn = None faz utilizar uma ativação linear\n",
    "\n",
    "\n",
    "\"\"\"\n",
    "DON'T MODIFY ANYTHING IN THIS CELL THAT IS BELOW THIS LINE\n",
    "\"\"\"\n",
    "tests.test_build_nn(build_nn)"
   ]
  },
  {
   "cell_type": "markdown",
   "metadata": {},
   "source": [
    "### Batches\n",
    "Implement `get_batches` to create batches of input and targets using `int_text`.  The batches should be a Numpy array with the shape `(number of batches, 2, batch size, sequence length)`. Each batch contains two elements:\n",
    "- The first element is a single batch of **input** with the shape `[batch size, sequence length]`\n",
    "- The second element is a single batch of **targets** with the shape `[batch size, sequence length]`\n",
    "\n",
    "If you can't fill the last batch with enough data, drop the last batch.\n",
    "\n",
    "For example, `get_batches([1, 2, 3, 4, 5, 6, 7, 8, 9, 10, 11, 12, 13, 14, 15, 16, 17, 18, 19, 20], 3, 2)` would return a Numpy array of the following:\n",
    "```\n",
    "[\n",
    "  # First Batch\n",
    "  [\n",
    "    # Batch of Input\n",
    "    [[ 1  2], [ 7  8], [13 14]]\n",
    "    # Batch of targets\n",
    "    [[ 2  3], [ 8  9], [14 15]]\n",
    "  ]\n",
    "\n",
    "  # Second Batch\n",
    "  [\n",
    "    # Batch of Input\n",
    "    [[ 3  4], [ 9 10], [15 16]]\n",
    "    # Batch of targets\n",
    "    [[ 4  5], [10 11], [16 17]]\n",
    "  ]\n",
    "\n",
    "  # Third Batch\n",
    "  [\n",
    "    # Batch of Input\n",
    "    [[ 5  6], [11 12], [17 18]]\n",
    "    # Batch of targets\n",
    "    [[ 6  7], [12 13], [18  1]]\n",
    "  ]\n",
    "]\n",
    "```\n",
    "\n",
    "Notice that the last target value in the last batch is the first input value of the first batch. In this case, `1`. This is a common technique used when creating sequence batches, although it is rather unintuitive."
   ]
  },
  {
   "cell_type": "code",
   "execution_count": 13,
   "metadata": {},
   "outputs": [
    {
     "name": "stdout",
     "output_type": "stream",
     "text": [
      "Tests Passed\n"
     ]
    }
   ],
   "source": [
    "def get_batches(int_text, batch_size, seq_length):\n",
    "    \n",
    "    n_batch = int(len(int_text) // (batch_size * seq_length))\n",
    "    inputs = np.array(int_text[: n_batch * batch_size * seq_length])\n",
    "    targets = np.array(int_text[1: n_batch * batch_size * seq_length + 1])            \n",
    "    targets[-1] = inputs[0]\n",
    "    \n",
    "    input_batch = np.split(inputs.reshape(batch_size, -1), n_batch,1)\n",
    "    target_batch = np.split(targets.reshape(batch_size,-1),n_batch,-1)\n",
    "    return np.array(list(zip(input_batch,target_batch)))\n",
    "\n",
    "\"\"\"\n",
    "DON'T MODIFY ANYTHING IN THIS CELL THAT IS BELOW THIS LINE\n",
    "\"\"\"\n",
    "tests.test_get_batches(get_batches)"
   ]
  },
  {
   "cell_type": "markdown",
   "metadata": {},
   "source": [
    "## Neural Network Training\n",
    "### Hyperparameters\n",
    "Tune the following parameters:\n",
    "\n",
    "- Set `num_epochs` to the number of epochs.\n",
    "- Set `batch_size` to the batch size.\n",
    "- Set `rnn_size` to the size of the RNNs.\n",
    "- Set `embed_dim` to the size of the embedding.\n",
    "- Set `seq_length` to the length of sequence.\n",
    "- Set `learning_rate` to the learning rate.\n",
    "- Set `show_every_n_batches` to the number of batches the neural network should print progress."
   ]
  },
  {
   "cell_type": "code",
   "execution_count": 25,
   "metadata": {},
   "outputs": [],
   "source": [
    "# Number of Epochs\n",
    "num_epochs = 400\n",
    "# Batch Size\n",
    "batch_size = 128\n",
    "# RNN Size\n",
    "rnn_size = 512 # já que estou utilizando dropout, este numero, obviamente, precisa ser maior para compensar as layers \"desligadas\"\n",
    "# Embedding Dimension Size\n",
    "embed_dim = 100 #pela quantidade de palavras, eu n preciso de um embed_dim tão grande \n",
    "# Sequence Length\n",
    "seq_length = 10 \n",
    "# Learning Rate\n",
    "learning_rate = 0.001\n",
    "# Show stats for every n number of batches\n",
    "show_every_n_batches = 60\n",
    "\n",
    "\"\"\"\n",
    "DON'T MODIFY ANYTHING IN THIS CELL THAT IS BELOW THIS LINE\n",
    "\"\"\"\n",
    "save_dir = './save'"
   ]
  },
  {
   "cell_type": "markdown",
   "metadata": {},
   "source": [
    "### Build the Graph\n",
    "Build the graph using the neural network you implemented."
   ]
  },
  {
   "cell_type": "code",
   "execution_count": 26,
   "metadata": {},
   "outputs": [],
   "source": [
    "\"\"\"\n",
    "DON'T MODIFY ANYTHING IN THIS CELL\n",
    "\"\"\"\n",
    "from tensorflow.contrib import seq2seq\n",
    "\n",
    "train_graph = tf.Graph()\n",
    "with train_graph.as_default():\n",
    "    vocab_size = len(int_to_vocab)\n",
    "    input_text, targets, lr = get_inputs()\n",
    "    input_data_shape = tf.shape(input_text)\n",
    "    cell, initial_state = get_init_cell(input_data_shape[0], rnn_size)\n",
    "    logits, final_state = build_nn(cell, rnn_size, input_text, vocab_size, embed_dim)\n",
    "\n",
    "    # Probabilities for generating words\n",
    "    probs = tf.nn.softmax(logits, name='probs')\n",
    "\n",
    "    # Loss function\n",
    "    cost = seq2seq.sequence_loss(\n",
    "        logits,\n",
    "        targets,\n",
    "        tf.ones([input_data_shape[0], input_data_shape[1]]))\n",
    "\n",
    "    # Optimizer\n",
    "    optimizer = tf.train.AdamOptimizer(lr)\n",
    "\n",
    "    # Gradient Clipping\n",
    "    gradients = optimizer.compute_gradients(cost)\n",
    "    capped_gradients = [(tf.clip_by_value(grad, -1., 1.), var) for grad, var in gradients if grad is not None]\n",
    "    train_op = optimizer.apply_gradients(capped_gradients)"
   ]
  },
  {
   "cell_type": "markdown",
   "metadata": {},
   "source": [
    "## Train\n",
    "Train the neural network on the preprocessed data.  If you have a hard time getting a good loss, check the [forums](https://discussions.udacity.com/) to see if anyone is having the same problem."
   ]
  },
  {
   "cell_type": "code",
   "execution_count": 27,
   "metadata": {},
   "outputs": [
    {
     "name": "stdout",
     "output_type": "stream",
     "text": [
      "Epoch   0 Batch    0/53   train_loss = 8.822\n",
      "Epoch   1 Batch    7/53   train_loss = 6.195\n",
      "Epoch   2 Batch   14/53   train_loss = 5.712\n",
      "Epoch   3 Batch   21/53   train_loss = 5.665\n",
      "Epoch   4 Batch   28/53   train_loss = 5.161\n",
      "Epoch   5 Batch   35/53   train_loss = 5.100\n",
      "Epoch   6 Batch   42/53   train_loss = 4.857\n",
      "Epoch   7 Batch   49/53   train_loss = 4.790\n",
      "Epoch   9 Batch    3/53   train_loss = 4.589\n",
      "Epoch  10 Batch   10/53   train_loss = 4.614\n",
      "Epoch  11 Batch   17/53   train_loss = 4.538\n",
      "Epoch  12 Batch   24/53   train_loss = 4.457\n",
      "Epoch  13 Batch   31/53   train_loss = 4.203\n",
      "Epoch  14 Batch   38/53   train_loss = 4.128\n",
      "Epoch  15 Batch   45/53   train_loss = 4.065\n",
      "Epoch  16 Batch   52/53   train_loss = 4.040\n",
      "Epoch  18 Batch    6/53   train_loss = 3.953\n",
      "Epoch  19 Batch   13/53   train_loss = 4.037\n",
      "Epoch  20 Batch   20/53   train_loss = 4.051\n",
      "Epoch  21 Batch   27/53   train_loss = 3.929\n",
      "Epoch  22 Batch   34/53   train_loss = 3.777\n",
      "Epoch  23 Batch   41/53   train_loss = 3.619\n",
      "Epoch  24 Batch   48/53   train_loss = 3.666\n",
      "Epoch  26 Batch    2/53   train_loss = 3.556\n",
      "Epoch  27 Batch    9/53   train_loss = 3.501\n",
      "Epoch  28 Batch   16/53   train_loss = 3.453\n",
      "Epoch  29 Batch   23/53   train_loss = 3.547\n",
      "Epoch  30 Batch   30/53   train_loss = 3.497\n",
      "Epoch  31 Batch   37/53   train_loss = 3.446\n",
      "Epoch  32 Batch   44/53   train_loss = 3.311\n",
      "Epoch  33 Batch   51/53   train_loss = 3.299\n",
      "Epoch  35 Batch    5/53   train_loss = 3.129\n",
      "Epoch  36 Batch   12/53   train_loss = 3.040\n",
      "Epoch  37 Batch   19/53   train_loss = 3.060\n",
      "Epoch  38 Batch   26/53   train_loss = 3.181\n",
      "Epoch  39 Batch   33/53   train_loss = 3.000\n",
      "Epoch  40 Batch   40/53   train_loss = 2.902\n",
      "Epoch  41 Batch   47/53   train_loss = 2.943\n",
      "Epoch  43 Batch    1/53   train_loss = 2.947\n",
      "Epoch  44 Batch    8/53   train_loss = 2.847\n",
      "Epoch  45 Batch   15/53   train_loss = 2.785\n",
      "Epoch  46 Batch   22/53   train_loss = 2.798\n",
      "Epoch  47 Batch   29/53   train_loss = 2.831\n",
      "Epoch  48 Batch   36/53   train_loss = 2.803\n",
      "Epoch  49 Batch   43/53   train_loss = 2.704\n",
      "Epoch  50 Batch   50/53   train_loss = 2.739\n",
      "Epoch  52 Batch    4/53   train_loss = 2.715\n",
      "Epoch  53 Batch   11/53   train_loss = 2.641\n",
      "Epoch  54 Batch   18/53   train_loss = 2.646\n",
      "Epoch  55 Batch   25/53   train_loss = 2.673\n",
      "Epoch  56 Batch   32/53   train_loss = 2.500\n",
      "Epoch  57 Batch   39/53   train_loss = 2.568\n",
      "Epoch  58 Batch   46/53   train_loss = 2.589\n",
      "Epoch  60 Batch    0/53   train_loss = 2.498\n",
      "Epoch  61 Batch    7/53   train_loss = 2.626\n",
      "Epoch  62 Batch   14/53   train_loss = 2.442\n",
      "Epoch  63 Batch   21/53   train_loss = 2.454\n",
      "Epoch  64 Batch   28/53   train_loss = 2.387\n",
      "Epoch  65 Batch   35/53   train_loss = 2.392\n",
      "Epoch  66 Batch   42/53   train_loss = 2.361\n",
      "Epoch  67 Batch   49/53   train_loss = 2.394\n",
      "Epoch  69 Batch    3/53   train_loss = 2.298\n",
      "Epoch  70 Batch   10/53   train_loss = 2.281\n",
      "Epoch  71 Batch   17/53   train_loss = 2.327\n",
      "Epoch  72 Batch   24/53   train_loss = 2.323\n",
      "Epoch  73 Batch   31/53   train_loss = 2.292\n",
      "Epoch  74 Batch   38/53   train_loss = 2.195\n",
      "Epoch  75 Batch   45/53   train_loss = 2.298\n",
      "Epoch  76 Batch   52/53   train_loss = 2.233\n",
      "Epoch  78 Batch    6/53   train_loss = 2.224\n",
      "Epoch  79 Batch   13/53   train_loss = 2.240\n",
      "Epoch  80 Batch   20/53   train_loss = 2.290\n",
      "Epoch  81 Batch   27/53   train_loss = 2.227\n",
      "Epoch  82 Batch   34/53   train_loss = 2.122\n",
      "Epoch  83 Batch   41/53   train_loss = 2.106\n",
      "Epoch  84 Batch   48/53   train_loss = 2.160\n",
      "Epoch  86 Batch    2/53   train_loss = 2.142\n",
      "Epoch  87 Batch    9/53   train_loss = 2.013\n",
      "Epoch  88 Batch   16/53   train_loss = 2.117\n",
      "Epoch  89 Batch   23/53   train_loss = 2.135\n",
      "Epoch  90 Batch   30/53   train_loss = 2.105\n",
      "Epoch  91 Batch   37/53   train_loss = 2.072\n",
      "Epoch  92 Batch   44/53   train_loss = 2.076\n",
      "Epoch  93 Batch   51/53   train_loss = 2.063\n",
      "Epoch  95 Batch    5/53   train_loss = 2.006\n",
      "Epoch  96 Batch   12/53   train_loss = 1.920\n",
      "Epoch  97 Batch   19/53   train_loss = 2.060\n",
      "Epoch  98 Batch   26/53   train_loss = 2.023\n",
      "Epoch  99 Batch   33/53   train_loss = 1.967\n",
      "Epoch 100 Batch   40/53   train_loss = 1.996\n",
      "Epoch 101 Batch   47/53   train_loss = 1.982\n",
      "Epoch 103 Batch    1/53   train_loss = 1.899\n",
      "Epoch 104 Batch    8/53   train_loss = 1.891\n",
      "Epoch 105 Batch   15/53   train_loss = 1.899\n",
      "Epoch 106 Batch   22/53   train_loss = 1.952\n",
      "Epoch 107 Batch   29/53   train_loss = 1.935\n",
      "Epoch 108 Batch   36/53   train_loss = 1.974\n",
      "Epoch 109 Batch   43/53   train_loss = 1.904\n",
      "Epoch 110 Batch   50/53   train_loss = 1.848\n",
      "Epoch 112 Batch    4/53   train_loss = 1.883\n",
      "Epoch 113 Batch   11/53   train_loss = 1.852\n",
      "Epoch 114 Batch   18/53   train_loss = 1.820\n",
      "Epoch 115 Batch   25/53   train_loss = 1.888\n",
      "Epoch 116 Batch   32/53   train_loss = 1.775\n",
      "Epoch 117 Batch   39/53   train_loss = 1.799\n",
      "Epoch 118 Batch   46/53   train_loss = 1.942\n",
      "Epoch 120 Batch    0/53   train_loss = 1.817\n",
      "Epoch 121 Batch    7/53   train_loss = 1.847\n",
      "Epoch 122 Batch   14/53   train_loss = 1.788\n",
      "Epoch 123 Batch   21/53   train_loss = 1.646\n",
      "Epoch 124 Batch   28/53   train_loss = 1.805\n",
      "Epoch 125 Batch   35/53   train_loss = 1.754\n",
      "Epoch 126 Batch   42/53   train_loss = 1.689\n",
      "Epoch 127 Batch   49/53   train_loss = 1.770\n",
      "Epoch 129 Batch    3/53   train_loss = 1.695\n",
      "Epoch 130 Batch   10/53   train_loss = 1.726\n",
      "Epoch 131 Batch   17/53   train_loss = 1.694\n",
      "Epoch 132 Batch   24/53   train_loss = 1.675\n",
      "Epoch 133 Batch   31/53   train_loss = 1.748\n",
      "Epoch 134 Batch   38/53   train_loss = 1.672\n",
      "Epoch 135 Batch   45/53   train_loss = 1.709\n",
      "Epoch 136 Batch   52/53   train_loss = 1.645\n",
      "Epoch 138 Batch    6/53   train_loss = 1.677\n",
      "Epoch 139 Batch   13/53   train_loss = 1.662\n",
      "Epoch 140 Batch   20/53   train_loss = 1.714\n",
      "Epoch 141 Batch   27/53   train_loss = 1.658\n",
      "Epoch 142 Batch   34/53   train_loss = 1.596\n",
      "Epoch 143 Batch   41/53   train_loss = 1.618\n",
      "Epoch 144 Batch   48/53   train_loss = 1.643\n",
      "Epoch 146 Batch    2/53   train_loss = 1.665\n",
      "Epoch 147 Batch    9/53   train_loss = 1.553\n",
      "Epoch 148 Batch   16/53   train_loss = 1.665\n",
      "Epoch 149 Batch   23/53   train_loss = 1.676\n",
      "Epoch 150 Batch   30/53   train_loss = 1.504\n",
      "Epoch 151 Batch   37/53   train_loss = 1.614\n",
      "Epoch 152 Batch   44/53   train_loss = 1.601\n",
      "Epoch 153 Batch   51/53   train_loss = 1.640\n",
      "Epoch 155 Batch    5/53   train_loss = 1.553\n",
      "Epoch 156 Batch   12/53   train_loss = 1.463\n",
      "Epoch 157 Batch   19/53   train_loss = 1.601\n",
      "Epoch 158 Batch   26/53   train_loss = 1.495\n",
      "Epoch 159 Batch   33/53   train_loss = 1.550\n",
      "Epoch 160 Batch   40/53   train_loss = 1.547\n",
      "Epoch 161 Batch   47/53   train_loss = 1.578\n",
      "Epoch 163 Batch    1/53   train_loss = 1.544\n",
      "Epoch 164 Batch    8/53   train_loss = 1.439\n",
      "Epoch 165 Batch   15/53   train_loss = 1.516\n",
      "Epoch 166 Batch   22/53   train_loss = 1.520\n",
      "Epoch 167 Batch   29/53   train_loss = 1.534\n",
      "Epoch 168 Batch   36/53   train_loss = 1.606\n",
      "Epoch 169 Batch   43/53   train_loss = 1.465\n",
      "Epoch 170 Batch   50/53   train_loss = 1.495\n",
      "Epoch 172 Batch    4/53   train_loss = 1.502\n",
      "Epoch 173 Batch   11/53   train_loss = 1.490\n",
      "Epoch 174 Batch   18/53   train_loss = 1.475\n",
      "Epoch 175 Batch   25/53   train_loss = 1.457\n",
      "Epoch 176 Batch   32/53   train_loss = 1.448\n",
      "Epoch 177 Batch   39/53   train_loss = 1.407\n",
      "Epoch 178 Batch   46/53   train_loss = 1.581\n",
      "Epoch 180 Batch    0/53   train_loss = 1.420\n",
      "Epoch 181 Batch    7/53   train_loss = 1.514\n",
      "Epoch 182 Batch   14/53   train_loss = 1.408\n",
      "Epoch 183 Batch   21/53   train_loss = 1.431\n",
      "Epoch 184 Batch   28/53   train_loss = 1.429\n",
      "Epoch 185 Batch   35/53   train_loss = 1.441\n",
      "Epoch 186 Batch   42/53   train_loss = 1.357\n",
      "Epoch 187 Batch   49/53   train_loss = 1.490\n",
      "Epoch 189 Batch    3/53   train_loss = 1.362\n",
      "Epoch 190 Batch   10/53   train_loss = 1.376\n",
      "Epoch 191 Batch   17/53   train_loss = 1.359\n",
      "Epoch 192 Batch   24/53   train_loss = 1.412\n",
      "Epoch 193 Batch   31/53   train_loss = 1.359\n",
      "Epoch 194 Batch   38/53   train_loss = 1.403\n",
      "Epoch 195 Batch   45/53   train_loss = 1.416\n",
      "Epoch 196 Batch   52/53   train_loss = 1.391\n",
      "Epoch 198 Batch    6/53   train_loss = 1.360\n",
      "Epoch 199 Batch   13/53   train_loss = 1.333\n",
      "Epoch 200 Batch   20/53   train_loss = 1.422\n",
      "Epoch 201 Batch   27/53   train_loss = 1.401\n",
      "Epoch 202 Batch   34/53   train_loss = 1.323\n",
      "Epoch 203 Batch   41/53   train_loss = 1.401\n",
      "Epoch 204 Batch   48/53   train_loss = 1.337\n",
      "Epoch 206 Batch    2/53   train_loss = 1.356\n",
      "Epoch 207 Batch    9/53   train_loss = 1.369\n",
      "Epoch 208 Batch   16/53   train_loss = 1.331\n",
      "Epoch 209 Batch   23/53   train_loss = 1.329\n",
      "Epoch 210 Batch   30/53   train_loss = 1.265\n",
      "Epoch 211 Batch   37/53   train_loss = 1.394\n",
      "Epoch 212 Batch   44/53   train_loss = 1.368\n",
      "Epoch 213 Batch   51/53   train_loss = 1.341\n",
      "Epoch 215 Batch    5/53   train_loss = 1.334\n",
      "Epoch 216 Batch   12/53   train_loss = 1.221\n",
      "Epoch 217 Batch   19/53   train_loss = 1.369\n",
      "Epoch 218 Batch   26/53   train_loss = 1.258\n",
      "Epoch 219 Batch   33/53   train_loss = 1.273\n",
      "Epoch 220 Batch   40/53   train_loss = 1.273\n",
      "Epoch 221 Batch   47/53   train_loss = 1.332\n",
      "Epoch 223 Batch    1/53   train_loss = 1.258\n",
      "Epoch 224 Batch    8/53   train_loss = 1.247\n",
      "Epoch 225 Batch   15/53   train_loss = 1.281\n",
      "Epoch 226 Batch   22/53   train_loss = 1.278\n",
      "Epoch 227 Batch   29/53   train_loss = 1.326\n",
      "Epoch 228 Batch   36/53   train_loss = 1.310\n",
      "Epoch 229 Batch   43/53   train_loss = 1.196\n",
      "Epoch 230 Batch   50/53   train_loss = 1.265\n",
      "Epoch 232 Batch    4/53   train_loss = 1.254\n",
      "Epoch 233 Batch   11/53   train_loss = 1.239\n",
      "Epoch 234 Batch   18/53   train_loss = 1.266\n",
      "Epoch 235 Batch   25/53   train_loss = 1.282\n",
      "Epoch 236 Batch   32/53   train_loss = 1.211\n",
      "Epoch 237 Batch   39/53   train_loss = 1.227\n",
      "Epoch 238 Batch   46/53   train_loss = 1.325\n",
      "Epoch 240 Batch    0/53   train_loss = 1.217\n",
      "Epoch 241 Batch    7/53   train_loss = 1.287\n",
      "Epoch 242 Batch   14/53   train_loss = 1.227\n",
      "Epoch 243 Batch   21/53   train_loss = 1.195\n",
      "Epoch 244 Batch   28/53   train_loss = 1.250\n",
      "Epoch 245 Batch   35/53   train_loss = 1.233\n",
      "Epoch 246 Batch   42/53   train_loss = 1.170\n",
      "Epoch 247 Batch   49/53   train_loss = 1.323\n",
      "Epoch 249 Batch    3/53   train_loss = 1.207\n",
      "Epoch 250 Batch   10/53   train_loss = 1.183\n",
      "Epoch 251 Batch   17/53   train_loss = 1.163\n",
      "Epoch 252 Batch   24/53   train_loss = 1.225\n",
      "Epoch 253 Batch   31/53   train_loss = 1.202\n",
      "Epoch 254 Batch   38/53   train_loss = 1.153\n",
      "Epoch 255 Batch   45/53   train_loss = 1.250\n",
      "Epoch 256 Batch   52/53   train_loss = 1.206\n",
      "Epoch 258 Batch    6/53   train_loss = 1.148\n",
      "Epoch 259 Batch   13/53   train_loss = 1.161\n",
      "Epoch 260 Batch   20/53   train_loss = 1.271\n",
      "Epoch 261 Batch   27/53   train_loss = 1.158\n",
      "Epoch 262 Batch   34/53   train_loss = 1.160\n",
      "Epoch 263 Batch   41/53   train_loss = 1.214\n",
      "Epoch 264 Batch   48/53   train_loss = 1.166\n",
      "Epoch 266 Batch    2/53   train_loss = 1.132\n",
      "Epoch 267 Batch    9/53   train_loss = 1.193\n",
      "Epoch 268 Batch   16/53   train_loss = 1.232\n",
      "Epoch 269 Batch   23/53   train_loss = 1.162\n",
      "Epoch 270 Batch   30/53   train_loss = 1.170\n",
      "Epoch 271 Batch   37/53   train_loss = 1.133\n",
      "Epoch 272 Batch   44/53   train_loss = 1.186\n",
      "Epoch 273 Batch   51/53   train_loss = 1.160\n",
      "Epoch 275 Batch    5/53   train_loss = 1.169\n",
      "Epoch 276 Batch   12/53   train_loss = 1.069\n",
      "Epoch 277 Batch   19/53   train_loss = 1.126\n",
      "Epoch 278 Batch   26/53   train_loss = 1.127\n",
      "Epoch 279 Batch   33/53   train_loss = 1.150\n",
      "Epoch 280 Batch   40/53   train_loss = 1.118\n",
      "Epoch 281 Batch   47/53   train_loss = 1.184\n",
      "Epoch 283 Batch    1/53   train_loss = 1.072\n",
      "Epoch 284 Batch    8/53   train_loss = 1.113\n",
      "Epoch 285 Batch   15/53   train_loss = 1.122\n",
      "Epoch 286 Batch   22/53   train_loss = 1.121\n",
      "Epoch 287 Batch   29/53   train_loss = 1.142\n",
      "Epoch 288 Batch   36/53   train_loss = 1.171\n",
      "Epoch 289 Batch   43/53   train_loss = 1.065\n",
      "Epoch 290 Batch   50/53   train_loss = 1.130\n",
      "Epoch 292 Batch    4/53   train_loss = 1.124\n",
      "Epoch 293 Batch   11/53   train_loss = 1.142\n",
      "Epoch 294 Batch   18/53   train_loss = 1.126\n",
      "Epoch 295 Batch   25/53   train_loss = 1.167\n",
      "Epoch 296 Batch   32/53   train_loss = 1.095\n",
      "Epoch 297 Batch   39/53   train_loss = 1.054\n",
      "Epoch 298 Batch   46/53   train_loss = 1.205\n",
      "Epoch 300 Batch    0/53   train_loss = 1.128\n",
      "Epoch 301 Batch    7/53   train_loss = 1.105\n",
      "Epoch 302 Batch   14/53   train_loss = 1.061\n",
      "Epoch 303 Batch   21/53   train_loss = 1.034\n",
      "Epoch 304 Batch   28/53   train_loss = 1.105\n",
      "Epoch 305 Batch   35/53   train_loss = 1.026\n",
      "Epoch 306 Batch   42/53   train_loss = 1.058\n",
      "Epoch 307 Batch   49/53   train_loss = 1.195\n",
      "Epoch 309 Batch    3/53   train_loss = 1.000\n",
      "Epoch 310 Batch   10/53   train_loss = 1.113\n",
      "Epoch 311 Batch   17/53   train_loss = 1.037\n",
      "Epoch 312 Batch   24/53   train_loss = 1.079\n",
      "Epoch 313 Batch   31/53   train_loss = 1.060\n",
      "Epoch 314 Batch   38/53   train_loss = 1.094\n",
      "Epoch 315 Batch   45/53   train_loss = 1.112\n",
      "Epoch 316 Batch   52/53   train_loss = 1.093\n",
      "Epoch 318 Batch    6/53   train_loss = 1.010\n",
      "Epoch 319 Batch   13/53   train_loss = 1.052\n",
      "Epoch 320 Batch   20/53   train_loss = 1.105\n",
      "Epoch 321 Batch   27/53   train_loss = 0.983\n",
      "Epoch 322 Batch   34/53   train_loss = 1.069\n",
      "Epoch 323 Batch   41/53   train_loss = 1.071\n",
      "Epoch 324 Batch   48/53   train_loss = 1.107\n",
      "Epoch 326 Batch    2/53   train_loss = 0.999\n",
      "Epoch 327 Batch    9/53   train_loss = 1.042\n",
      "Epoch 328 Batch   16/53   train_loss = 1.121\n",
      "Epoch 329 Batch   23/53   train_loss = 1.025\n",
      "Epoch 330 Batch   30/53   train_loss = 1.004\n",
      "Epoch 331 Batch   37/53   train_loss = 1.010\n",
      "Epoch 332 Batch   44/53   train_loss = 1.019\n",
      "Epoch 333 Batch   51/53   train_loss = 1.059\n",
      "Epoch 335 Batch    5/53   train_loss = 1.018\n",
      "Epoch 336 Batch   12/53   train_loss = 0.957\n",
      "Epoch 337 Batch   19/53   train_loss = 1.076\n",
      "Epoch 338 Batch   26/53   train_loss = 1.017\n",
      "Epoch 339 Batch   33/53   train_loss = 1.114\n",
      "Epoch 340 Batch   40/53   train_loss = 1.014\n",
      "Epoch 341 Batch   47/53   train_loss = 1.047\n",
      "Epoch 343 Batch    1/53   train_loss = 1.004\n",
      "Epoch 344 Batch    8/53   train_loss = 1.024\n",
      "Epoch 345 Batch   15/53   train_loss = 1.064\n",
      "Epoch 346 Batch   22/53   train_loss = 1.055\n",
      "Epoch 347 Batch   29/53   train_loss = 1.060\n",
      "Epoch 348 Batch   36/53   train_loss = 1.057\n",
      "Epoch 349 Batch   43/53   train_loss = 1.024\n",
      "Epoch 350 Batch   50/53   train_loss = 1.010\n",
      "Epoch 352 Batch    4/53   train_loss = 1.057\n",
      "Epoch 353 Batch   11/53   train_loss = 1.028\n",
      "Epoch 354 Batch   18/53   train_loss = 1.041\n",
      "Epoch 355 Batch   25/53   train_loss = 1.005\n",
      "Epoch 356 Batch   32/53   train_loss = 0.978\n",
      "Epoch 357 Batch   39/53   train_loss = 0.992\n",
      "Epoch 358 Batch   46/53   train_loss = 1.061\n",
      "Epoch 360 Batch    0/53   train_loss = 0.978\n",
      "Epoch 361 Batch    7/53   train_loss = 1.048\n",
      "Epoch 362 Batch   14/53   train_loss = 0.996\n",
      "Epoch 363 Batch   21/53   train_loss = 0.962\n",
      "Epoch 364 Batch   28/53   train_loss = 1.017\n",
      "Epoch 365 Batch   35/53   train_loss = 0.994\n",
      "Epoch 366 Batch   42/53   train_loss = 0.974\n",
      "Epoch 367 Batch   49/53   train_loss = 1.042\n",
      "Epoch 369 Batch    3/53   train_loss = 0.963\n",
      "Epoch 370 Batch   10/53   train_loss = 1.000\n",
      "Epoch 371 Batch   17/53   train_loss = 0.974\n",
      "Epoch 372 Batch   24/53   train_loss = 1.016\n",
      "Epoch 373 Batch   31/53   train_loss = 0.968\n",
      "Epoch 374 Batch   38/53   train_loss = 0.947\n",
      "Epoch 375 Batch   45/53   train_loss = 0.982\n",
      "Epoch 376 Batch   52/53   train_loss = 1.025\n",
      "Epoch 378 Batch    6/53   train_loss = 0.991\n",
      "Epoch 379 Batch   13/53   train_loss = 0.970\n",
      "Epoch 380 Batch   20/53   train_loss = 1.006\n",
      "Epoch 381 Batch   27/53   train_loss = 0.949\n",
      "Epoch 382 Batch   34/53   train_loss = 0.922\n",
      "Epoch 383 Batch   41/53   train_loss = 1.012\n",
      "Epoch 384 Batch   48/53   train_loss = 1.030\n",
      "Epoch 386 Batch    2/53   train_loss = 0.904\n",
      "Epoch 387 Batch    9/53   train_loss = 0.956\n",
      "Epoch 388 Batch   16/53   train_loss = 1.046\n",
      "Epoch 389 Batch   23/53   train_loss = 1.004\n",
      "Epoch 390 Batch   30/53   train_loss = 0.932\n",
      "Epoch 391 Batch   37/53   train_loss = 0.984\n",
      "Epoch 392 Batch   44/53   train_loss = 0.940\n",
      "Epoch 393 Batch   51/53   train_loss = 1.051\n",
      "Epoch 395 Batch    5/53   train_loss = 0.924\n",
      "Epoch 396 Batch   12/53   train_loss = 0.875\n",
      "Epoch 397 Batch   19/53   train_loss = 0.897\n",
      "Epoch 398 Batch   26/53   train_loss = 0.966\n",
      "Epoch 399 Batch   33/53   train_loss = 0.946\n",
      "Model Trained and Saved\n"
     ]
    }
   ],
   "source": [
    "\"\"\"\n",
    "DON'T MODIFY ANYTHING IN THIS CELL\n",
    "\"\"\"\n",
    "batches = get_batches(int_text, batch_size, seq_length)\n",
    "\n",
    "with tf.Session(graph=train_graph) as sess:\n",
    "    sess.run(tf.global_variables_initializer())\n",
    "\n",
    "    for epoch_i in range(num_epochs):\n",
    "        state = sess.run(initial_state, {input_text: batches[0][0]})\n",
    "\n",
    "        for batch_i, (x, y) in enumerate(batches):\n",
    "            feed = {\n",
    "                input_text: x,\n",
    "                targets: y,\n",
    "                initial_state: state,\n",
    "                lr: learning_rate}\n",
    "            train_loss, state, _ = sess.run([cost, final_state, train_op], feed)\n",
    "\n",
    "            # Show every <show_every_n_batches> batches\n",
    "            if (epoch_i * len(batches) + batch_i) % show_every_n_batches == 0:\n",
    "                print('Epoch {:>3} Batch {:>4}/{}   train_loss = {:.3f}'.format(\n",
    "                    epoch_i,\n",
    "                    batch_i,\n",
    "                    len(batches),\n",
    "                    train_loss))\n",
    "\n",
    "    # Save Model\n",
    "    saver = tf.train.Saver()\n",
    "    saver.save(sess, save_dir)\n",
    "    print('Model Trained and Saved')"
   ]
  },
  {
   "cell_type": "markdown",
   "metadata": {},
   "source": [
    "## Save Parameters\n",
    "Save `seq_length` and `save_dir` for generating a new TV script."
   ]
  },
  {
   "cell_type": "code",
   "execution_count": 28,
   "metadata": {},
   "outputs": [],
   "source": [
    "\"\"\"\n",
    "DON'T MODIFY ANYTHING IN THIS CELL\n",
    "\"\"\"\n",
    "# Save parameters for checkpoint\n",
    "helper.save_params((seq_length, save_dir))"
   ]
  },
  {
   "cell_type": "markdown",
   "metadata": {},
   "source": [
    "# Checkpoint"
   ]
  },
  {
   "cell_type": "code",
   "execution_count": 29,
   "metadata": {},
   "outputs": [],
   "source": [
    "\"\"\"\n",
    "DON'T MODIFY ANYTHING IN THIS CELL\n",
    "\"\"\"\n",
    "import tensorflow as tf\n",
    "import numpy as np\n",
    "import helper\n",
    "import problem_unittests as tests\n",
    "\n",
    "_, vocab_to_int, int_to_vocab, token_dict = helper.load_preprocess()\n",
    "seq_length, load_dir = helper.load_params()"
   ]
  },
  {
   "cell_type": "markdown",
   "metadata": {},
   "source": [
    "## Implement Generate Functions\n",
    "### Get Tensors\n",
    "Get tensors from `loaded_graph` using the function [`get_tensor_by_name()`](https://www.tensorflow.org/api_docs/python/tf/Graph#get_tensor_by_name).  Get the tensors using the following names:\n",
    "- \"input:0\"\n",
    "- \"initial_state:0\"\n",
    "- \"final_state:0\"\n",
    "- \"probs:0\"\n",
    "\n",
    "Return the tensors in the following tuple `(InputTensor, InitialStateTensor, FinalStateTensor, ProbsTensor)` "
   ]
  },
  {
   "cell_type": "code",
   "execution_count": 30,
   "metadata": {},
   "outputs": [
    {
     "name": "stdout",
     "output_type": "stream",
     "text": [
      "Tests Passed\n"
     ]
    }
   ],
   "source": [
    "def get_tensors(loaded_graph):\n",
    "    \n",
    "    inputtensor = loaded_graph.get_tensor_by_name('input:0')\n",
    "    initialstatetensor = loaded_graph.get_tensor_by_name('initial_state:0')\n",
    "    finalstatetensor = loaded_graph.get_tensor_by_name('final_state:0')\n",
    "    probstensor = loaded_graph.get_tensor_by_name('probs:0')\n",
    "\n",
    "    return (inputtensor, initialstatetensor, finalstatetensor, probstensor)\n",
    "\n",
    "\n",
    "\"\"\"\n",
    "DON'T MODIFY ANYTHING IN THIS CELL THAT IS BELOW THIS LINE\n",
    "\"\"\"\n",
    "tests.test_get_tensors(get_tensors)"
   ]
  },
  {
   "cell_type": "markdown",
   "metadata": {},
   "source": [
    "### Choose Word\n",
    "Implement the `pick_word()` function to select the next word using `probabilities`."
   ]
  },
  {
   "cell_type": "code",
   "execution_count": 31,
   "metadata": {},
   "outputs": [
    {
     "name": "stdout",
     "output_type": "stream",
     "text": [
      "Tests Passed\n"
     ]
    }
   ],
   "source": [
    "def pick_word(probabilities, int_to_vocab):\n",
    "\n",
    "    return int_to_vocab[np.argmax(probabilities)]\n",
    "\n",
    "\n",
    "\"\"\"\n",
    "DON'T MODIFY ANYTHING IN THIS CELL THAT IS BELOW THIS LINE\n",
    "\"\"\"\n",
    "tests.test_pick_word(pick_word)"
   ]
  },
  {
   "cell_type": "markdown",
   "metadata": {},
   "source": [
    "## Generate TV Script\n",
    "This will generate the TV script for you.  Set `gen_length` to the length of TV script you want to generate."
   ]
  },
  {
   "cell_type": "code",
   "execution_count": 32,
   "metadata": {},
   "outputs": [
    {
     "name": "stdout",
     "output_type": "stream",
     "text": [
      "INFO:tensorflow:Restoring parameters from ./save\n",
      "moe_szyslak:(amazed) you sure somethin' free since one is?\n",
      "ned_flanders: i not not just barney for the speed hotline.\n",
      "carl_carlson:(impressed)) what?\n",
      "seymour_skinner:(won't ever camera) i get your small out attractive.\n",
      "moe_szyslak: what are my lucky friend.\n",
      "moe_szyslak:(loud) yeah, yeah. look, moe?(drunk noise)\n",
      "homer_simpson: well, guys. how crappy about your twenty friends much news sitting in us.\n",
      "moe_szyslak:(scrutinizing) wow, ooh, they're remember, i wanted to move goes to the new four guy for their stock all their life / like that?\n",
      "homer_simpson: moe, i been should figured by the place.\n",
      "marge_simpson: i'll try like\" list of being, but.\n",
      "carl_carlson: moe, you were hilarious!(sobs)\n",
      "chief_wiggum: to gotta man, moe. my wife's gonna be big beer.\n",
      "moe_szyslak: hey, hold and there's the boxer. was fire amazing payments.(groan we water and see it?\n",
      "moe_szyslak: oh, if you want\n"
     ]
    }
   ],
   "source": [
    "gen_length = 200\n",
    "# homer_simpson, moe_szyslak, or Barney_Gumble\n",
    "prime_word = 'moe_szyslak'\n",
    "\n",
    "\"\"\"\n",
    "DON'T MODIFY ANYTHING IN THIS CELL THAT IS BELOW THIS LINE\n",
    "\"\"\"\n",
    "loaded_graph = tf.Graph()\n",
    "with tf.Session(graph=loaded_graph) as sess:\n",
    "    # Load saved model\n",
    "    loader = tf.train.import_meta_graph(load_dir + '.meta')\n",
    "    loader.restore(sess, load_dir)\n",
    "\n",
    "    # Get Tensors from loaded model\n",
    "    input_text, initial_state, final_state, probs = get_tensors(loaded_graph)\n",
    "\n",
    "    # Sentences generation setup\n",
    "    gen_sentences = [prime_word + ':']\n",
    "    prev_state = sess.run(initial_state, {input_text: np.array([[1]])})\n",
    "\n",
    "    # Generate sentences\n",
    "    for n in range(gen_length):\n",
    "        # Dynamic Input\n",
    "        dyn_input = [[vocab_to_int[word] for word in gen_sentences[-seq_length:]]]\n",
    "        dyn_seq_length = len(dyn_input[0])\n",
    "\n",
    "        # Get Prediction\n",
    "        probabilities, prev_state = sess.run(\n",
    "            [probs, final_state],\n",
    "            {input_text: dyn_input, initial_state: prev_state})\n",
    "        \n",
    "        pred_word = pick_word(probabilities[0][dyn_seq_length-1], int_to_vocab)\n",
    "\n",
    "        gen_sentences.append(pred_word)\n",
    "    \n",
    "    # Remove tokens\n",
    "    tv_script = ' '.join(gen_sentences)\n",
    "    for key, token in token_dict.items():\n",
    "        ending = ' ' if key in ['\\n', '(', '\"'] else ''\n",
    "        tv_script = tv_script.replace(' ' + token.lower(), key)\n",
    "    tv_script = tv_script.replace('\\n ', '\\n')\n",
    "    tv_script = tv_script.replace('( ', '(')\n",
    "        \n",
    "    print(tv_script)"
   ]
  },
  {
   "cell_type": "markdown",
   "metadata": {},
   "source": [
    "# The TV Script is Nonsensical\n",
    "It's ok if the TV script doesn't make any sense.  We trained on less than a megabyte of text.  In order to get good results, you'll have to use a smaller vocabulary or get more data.  Luckily there's more data!  As we mentioned in the beggining of this project, this is a subset of [another dataset](https://www.kaggle.com/wcukierski/the-simpsons-by-the-data).  We didn't have you train on all the data, because that would take too long.  However, you are free to train your neural network on all the data.  After you complete the project, of course.\n",
    "# Submitting This Project\n",
    "When submitting this project, make sure to run all the cells before saving the notebook. Save the notebook file as \"dlnd_tv_script_generation.ipynb\" and save it as a HTML file under \"File\" -> \"Download as\". Include the \"helper.py\" and \"problem_unittests.py\" files in your submission."
   ]
  }
 ],
 "metadata": {
  "kernelspec": {
   "display_name": "Python 3",
   "language": "python",
   "name": "python3"
  },
  "language_info": {
   "codemirror_mode": {
    "name": "ipython",
    "version": 3
   },
   "file_extension": ".py",
   "mimetype": "text/x-python",
   "name": "python",
   "nbconvert_exporter": "python",
   "pygments_lexer": "ipython3",
   "version": "3.7.2"
  },
  "widgets": {
   "state": {},
   "version": "1.1.2"
  }
 },
 "nbformat": 4,
 "nbformat_minor": 1
}
